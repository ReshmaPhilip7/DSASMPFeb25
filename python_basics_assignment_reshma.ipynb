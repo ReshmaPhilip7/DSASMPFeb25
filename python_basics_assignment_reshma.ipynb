{
 "cells": [
  {
   "cell_type": "markdown",
   "id": "d2328cad",
   "metadata": {},
   "source": [
    "# Python Basics Assignment\n",
    "\n",
    "This notebook contains 20 basic Python questions.  \n",
    "Each question carries **1 mark**. Write your answer in the cell provided.  \n"
   ]
  },
  {
   "cell_type": "markdown",
   "id": "cb537954",
   "metadata": {},
   "source": [
    "### Question 1\n",
    "Write a function that returns the square of a number."
   ]
  },
  {
   "cell_type": "code",
   "execution_count": 45,
   "id": "cf213ba2",
   "metadata": {},
   "outputs": [
    {
     "name": "stdout",
     "output_type": "stream",
     "text": [
      "The square is: 100\n"
     ]
    }
   ],
   "source": [
    "# Your code here\n",
    "def squaring_num(num):\n",
    "    return num ** 2\n",
    "\n",
    "square = squaring_num(-10)\n",
    "print('The square is:',square)\n",
    "    "
   ]
  },
  {
   "cell_type": "markdown",
   "id": "4eaff430",
   "metadata": {},
   "source": [
    "### Question 2\n",
    "Write a function that checks whether a number is even."
   ]
  },
  {
   "cell_type": "code",
   "execution_count": 21,
   "id": "81934cf7",
   "metadata": {},
   "outputs": [
    {
     "name": "stdout",
     "output_type": "stream",
     "text": [
      "The number is : even\n"
     ]
    }
   ],
   "source": [
    "# Your code here\n",
    "def check_even(num):\n",
    "    if(num % 2 == 0):\n",
    "        return 'even'\n",
    "    else:\n",
    "        return 'odd'\n",
    "\n",
    "result = check_even(4)\n",
    "print('The number is :',result)"
   ]
  },
  {
   "cell_type": "markdown",
   "id": "5f061e50",
   "metadata": {},
   "source": [
    "### Question 3\n",
    "Write a function to return the maximum of two numbers."
   ]
  },
  {
   "cell_type": "code",
   "execution_count": 43,
   "id": "44e2a596",
   "metadata": {},
   "outputs": [
    {
     "name": "stdout",
     "output_type": "stream",
     "text": [
      "The 2 numbers are equal\n",
      "The number which is greater among the two is : None\n"
     ]
    }
   ],
   "source": [
    "# Your code here\n",
    "def check_max(num1,num2):\n",
    "    if(num1 > num2):\n",
    "        return num1\n",
    "    elif(num2 > num1):\n",
    "        return num2\n",
    "    else:\n",
    "        print('The 2 numbers are equal')\n",
    "        return 'None'\n",
    "        \n",
    "\n",
    "result = check_max(4,4)\n",
    "print('The number which is greater among the two is :',result)"
   ]
  },
  {
   "cell_type": "markdown",
   "id": "7513ca91",
   "metadata": {},
   "source": [
    "### Question 4\n",
    "Write a function to return the factorial of a number."
   ]
  },
  {
   "cell_type": "code",
   "execution_count": 2,
   "id": "6617842f",
   "metadata": {},
   "outputs": [
    {
     "name": "stdout",
     "output_type": "stream",
     "text": [
      "The factorial of number is: 24\n"
     ]
    }
   ],
   "source": [
    "# Your code here\n",
    "def factorial(n):\n",
    "    if(n<0):\n",
    "        print('Factorial is not defined for negative numbers')\n",
    "        return 'None'\n",
    "    result = 1\n",
    "    for i in range(1,n+1,1):\n",
    "        result = result * i\n",
    "    return result\n",
    "    \n",
    "\n",
    "result_fact = factorial(4)\n",
    "print(\"The factorial of number is:\",result_fact)"
   ]
  },
  {
   "cell_type": "markdown",
   "id": "9b942098",
   "metadata": {},
   "source": [
    "### Question 5\n",
    "Write a function to reverse a string."
   ]
  },
  {
   "cell_type": "code",
   "execution_count": 4,
   "id": "d606b194",
   "metadata": {},
   "outputs": [
    {
     "name": "stdout",
     "output_type": "stream",
     "text": [
      "Original string: Hello\n",
      "Reversed string: olleH\n"
     ]
    }
   ],
   "source": [
    "# Your code here\n",
    "def reverse_string(a):\n",
    "    reversed_string = a[::-1]\n",
    "    return reversed_string\n",
    "\n",
    "b=\"Hello\"\n",
    "new_string = reverse_string(b)\n",
    "print('Original string:',b)\n",
    "print('Reversed string:',new_string)"
   ]
  },
  {
   "cell_type": "markdown",
   "id": "1abd915b",
   "metadata": {},
   "source": [
    "### Question 6\n",
    "Write a function to check if a string is a palindrome."
   ]
  },
  {
   "cell_type": "code",
   "execution_count": 10,
   "id": "2b868fb3",
   "metadata": {},
   "outputs": [
    {
     "name": "stdout",
     "output_type": "stream",
     "text": [
      "The original string is  a palindrome\n"
     ]
    }
   ],
   "source": [
    "# Your code here\n",
    "def check_palindrome(a):\n",
    "    reversed_string = a[::-1]\n",
    "    if(a == reversed_string):\n",
    "        return 'a palindrome'\n",
    "    else:\n",
    "        return 'not a palindrome'\n",
    "\n",
    "b=\"madam\"\n",
    "check = check_palindrome(b)\n",
    "print('The original string is ',check)\n"
   ]
  },
  {
   "cell_type": "markdown",
   "id": "5f2f3791",
   "metadata": {},
   "source": [
    "### Question 7\n",
    "Write a function to count vowels in a string."
   ]
  },
  {
   "cell_type": "code",
   "execution_count": 26,
   "id": "73fefa50",
   "metadata": {},
   "outputs": [
    {
     "name": "stdout",
     "output_type": "stream",
     "text": [
      "O\n",
      "r\n",
      "Not vowel\n",
      "a\n",
      "n\n",
      "Not vowel\n",
      "g\n",
      "Not vowel\n",
      "e\n",
      "3\n"
     ]
    }
   ],
   "source": [
    "# Your code here\n",
    "def count_vowels(word):\n",
    "    vowels ='aeiou'\n",
    "    Vowel_caps = 'AEIOU'\n",
    "    count = 0\n",
    "    for char in word:\n",
    "        print(char)\n",
    "        if char in vowels:\n",
    "            count = count + 1\n",
    "        elif char in Vowel_caps:\n",
    "            count = count + 1\n",
    "        else:\n",
    "            print('Not vowel')\n",
    "    return count\n",
    "\n",
    "count_vowels = count_vowels('Orange')\n",
    "print(count_vowels)"
   ]
  },
  {
   "cell_type": "markdown",
   "id": "0d3a9996",
   "metadata": {},
   "source": [
    "### Question 8\n",
    "Write a function that returns the sum of a list."
   ]
  },
  {
   "cell_type": "code",
   "execution_count": 42,
   "id": "ab6afc66",
   "metadata": {},
   "outputs": [
    {
     "name": "stdout",
     "output_type": "stream",
     "text": [
      "17\n"
     ]
    }
   ],
   "source": [
    "# Your code here\n",
    "def find_sum(numbers):\n",
    "   total = 0\n",
    "   for num in numbers:\n",
    "       total = total + num\n",
    "   return total\n",
    "\n",
    "list = [5,11,1]\n",
    "output= find_sum(list)\n",
    "print(output)\n",
    "\n",
    "\n"
   ]
  },
  {
   "cell_type": "markdown",
   "id": "f6682500",
   "metadata": {},
   "source": [
    "### Question 9\n",
    "Write a function to find the smallest number in a list."
   ]
  },
  {
   "cell_type": "code",
   "execution_count": null,
   "id": "6798a641",
   "metadata": {},
   "outputs": [
    {
     "name": "stdout",
     "output_type": "stream",
     "text": [
      "0\n"
     ]
    }
   ],
   "source": [
    "# Your code here\n",
    "def find_smallest(numbers):\n",
    "    c = min(numbers)\n",
    "    return c\n",
    "\n",
    "list = [-5,11,0]\n",
    "output= find_smallest(list)\n",
    "print(output)"
   ]
  },
  {
   "cell_type": "markdown",
   "id": "fb11e683",
   "metadata": {},
   "source": [
    "### Question 10\n",
    "Write a function to remove duplicates from a list."
   ]
  },
  {
   "cell_type": "code",
   "execution_count": 70,
   "id": "7c53f88c",
   "metadata": {},
   "outputs": [
    {
     "name": "stdout",
     "output_type": "stream",
     "text": [
      "[1, 2, 3, 4, 5, 6, 10]\n"
     ]
    }
   ],
   "source": [
    "# Your code here\n",
    "def remove_duplicate(numbers):\n",
    "    unique_list = set(my_list)\n",
    "    return list(unique_list)\n",
    "\n",
    "my_list = [1,10, 6,2, 2, 3, 4, 4, 5]\n",
    "output= remove_duplicate(my_list)\n",
    "print(output)\n",
    "\n",
    "\n"
   ]
  },
  {
   "cell_type": "markdown",
   "id": "9c380a5c",
   "metadata": {},
   "source": [
    "### Question 11\n",
    "Write a function to sort a list in ascending order."
   ]
  },
  {
   "cell_type": "code",
   "execution_count": 71,
   "id": "8e43832f",
   "metadata": {},
   "outputs": [
    {
     "name": "stdout",
     "output_type": "stream",
     "text": [
      "[1, 2, 2, 3, 4, 4, 5, 6, 10]\n"
     ]
    }
   ],
   "source": [
    "# Your code here\n",
    "def sort_list(numbers):\n",
    "    final_result = sorted(numbers)\n",
    "    return final_result\n",
    "\n",
    "my_list = [1,10, 6,2, 2, 3, 4, 4, 5]\n",
    "output= sort_list(my_list)\n",
    "print(output)"
   ]
  },
  {
   "cell_type": "markdown",
   "id": "1270c91c",
   "metadata": {},
   "source": [
    "### Question 12\n",
    "Write a function that returns the length of a string."
   ]
  },
  {
   "cell_type": "code",
   "execution_count": 72,
   "id": "87f35472",
   "metadata": {},
   "outputs": [
    {
     "name": "stdout",
     "output_type": "stream",
     "text": [
      "9\n"
     ]
    }
   ],
   "source": [
    "# Your code here\n",
    "def len_list(numbers):\n",
    "    final_result = len(numbers)\n",
    "    return final_result\n",
    "\n",
    "my_list = [1,10, 6,2, 2, 3, 4, 4, 5]\n",
    "output= len_list(my_list)\n",
    "print(output)"
   ]
  },
  {
   "cell_type": "markdown",
   "id": "9a8e3d28",
   "metadata": {},
   "source": [
    "### Question 13\n",
    "Write a function to count words in a sentence."
   ]
  },
  {
   "cell_type": "code",
   "execution_count": 74,
   "id": "e6f996ef",
   "metadata": {},
   "outputs": [
    {
     "name": "stdout",
     "output_type": "stream",
     "text": [
      "['Hi,', 'I', 'am', 'reshma']\n",
      "4\n"
     ]
    }
   ],
   "source": [
    "# Your code here\n",
    "def count_words(sentence):\n",
    "    list_of_words = sentence.split()\n",
    "    print(list_of_words)\n",
    "    cnt = len(list_of_words)\n",
    "    return cnt\n",
    "\n",
    "result = count_words('Hi, I am reshma')\n",
    "print(result)"
   ]
  },
  {
   "cell_type": "markdown",
   "id": "430c2e4a",
   "metadata": {},
   "source": [
    "### Question 14\n",
    "Write a function to convert Celsius to Fahrenheit."
   ]
  },
  {
   "cell_type": "code",
   "execution_count": 76,
   "id": "b710b0bd",
   "metadata": {},
   "outputs": [
    {
     "name": "stdout",
     "output_type": "stream",
     "text": [
      "77.0\n"
     ]
    }
   ],
   "source": [
    "# Your code here\n",
    "def C_to_F(temp_c):\n",
    "    temp_F = (temp_c * 9/5) + 32\n",
    "    return temp_F\n",
    "\n",
    "temperature = 25\n",
    "result = C_to_F(temperature)\n",
    "print(result)"
   ]
  },
  {
   "cell_type": "markdown",
   "id": "acefe5e3",
   "metadata": {},
   "source": [
    "### Question 15\n",
    "Write a function to check if a number is prime."
   ]
  },
  {
   "cell_type": "code",
   "execution_count": 105,
   "id": "b700abae",
   "metadata": {},
   "outputs": [
    {
     "name": "stdout",
     "output_type": "stream",
     "text": [
      "9\n",
      "The number is composite\n"
     ]
    }
   ],
   "source": [
    "# Your code here\n",
    "def check_prime(num):\n",
    "    print(num)\n",
    "    if(num < 1):\n",
    "        return 'Not a valid input'\n",
    "    elif(num == 1):\n",
    "        return 'The number is neither prime nor composite'\n",
    "    elif(all(num % i != 0 for i in range(2,num-1))):\n",
    "        print('prime')\n",
    "        return 'The number is prime'\n",
    "    else:\n",
    "        return 'The number is composite'\n",
    "\n",
    "result = check_prime(9)\n",
    "print(result)"
   ]
  },
  {
   "cell_type": "markdown",
   "id": "b63452cb",
   "metadata": {},
   "source": [
    "### Question 16\n",
    "Write a function to return all even numbers in a list."
   ]
  },
  {
   "cell_type": "code",
   "execution_count": 146,
   "id": "9d1fc968",
   "metadata": {},
   "outputs": [
    {
     "name": "stdout",
     "output_type": "stream",
     "text": [
      "[10, 16, 6, 2, 2, 4, 4]\n"
     ]
    }
   ],
   "source": [
    "# Your code here\n",
    "def all_evens(numbers):\n",
    "    return [i for i in numbers if i % 2 == 0]\n",
    "\n",
    "my_list = [1,10,16, 6,2, 2, 3, 4, 4, 5]\n",
    "output= all_evens(my_list)\n",
    "print(output)"
   ]
  },
  {
   "cell_type": "markdown",
   "id": "aca524d9",
   "metadata": {},
   "source": [
    "### Question 17\n",
    "Write a function to return the nth Fibonacci number."
   ]
  },
  {
   "cell_type": "code",
   "execution_count": 153,
   "id": "97dc4e87",
   "metadata": {},
   "outputs": [
    {
     "name": "stdout",
     "output_type": "stream",
     "text": [
      "2\n"
     ]
    }
   ],
   "source": [
    "# Your code here\n",
    "def fibonnaci(n):\n",
    "    if n==0:\n",
    "     return 0\n",
    "    elif n<0:\n",
    "       return 'invalid input'\n",
    "    elif n==1:\n",
    "       return 1\n",
    "    else:\n",
    "       a,b = 0,1\n",
    "       for i in range(2,n+1):\n",
    "          a,b = b, a+b\n",
    "       return b    \n",
    "\n",
    "result = fibonnaci(3)\n",
    "print(result)\n"
   ]
  },
  {
   "cell_type": "markdown",
   "id": "29c847dc",
   "metadata": {},
   "source": [
    "### Question 18\n",
    "Write a function to calculate the average of a list."
   ]
  },
  {
   "cell_type": "code",
   "execution_count": 168,
   "id": "9adc9fd2",
   "metadata": {},
   "outputs": [
    {
     "name": "stdout",
     "output_type": "stream",
     "text": [
      "4\n",
      "1\n",
      "2\n",
      "3\n",
      "4\n",
      "1.0\n"
     ]
    }
   ],
   "source": [
    "# Your code here\n",
    "def average_list(list1):\n",
    "    a = len(list1)\n",
    "    print(a)\n",
    "    c=0\n",
    "    for i in list1:\n",
    "        c=c+i\n",
    "        print(c)\n",
    "    v=0\n",
    "    v=c/a\n",
    "    return v     \n",
    "        \n",
    "list2 =[1,1,1,1]\n",
    "result = average_list(list2)\n",
    "print(result)"
   ]
  },
  {
   "cell_type": "markdown",
   "id": "420240fb",
   "metadata": {},
   "source": [
    "### Question 19\n",
    "Write a function that returns a dictionary of character counts."
   ]
  },
  {
   "cell_type": "code",
   "execution_count": 191,
   "id": "95cafc54",
   "metadata": {},
   "outputs": [
    {
     "name": "stdout",
     "output_type": "stream",
     "text": [
      "{'h': 1, 'e': 1, 'l': 3, 'o': 2, ' ': 1, 'w': 1, 'r': 1, 'd': 1}\n"
     ]
    }
   ],
   "source": [
    "# Your code here\n",
    "def char_cnt(strings):\n",
    "    count_dict ={}\n",
    "    for i in strings:\n",
    "        if i in count_dict:\n",
    "            count_dict[i] += 1\n",
    "        else:\n",
    "            count_dict[i] = 1\n",
    "    return count_dict\n",
    "\n",
    "result = char_cnt(\"hello world\")\n",
    "print(result)\n",
    "\n",
    "\n"
   ]
  },
  {
   "cell_type": "markdown",
   "id": "17629a07",
   "metadata": {},
   "source": [
    "### Question 20\n",
    "Write a function that returns True if all list elements are unique."
   ]
  },
  {
   "cell_type": "code",
   "execution_count": 198,
   "id": "fe4f8820",
   "metadata": {},
   "outputs": [
    {
     "name": "stdout",
     "output_type": "stream",
     "text": [
      "True\n"
     ]
    }
   ],
   "source": [
    "# Your code here\n",
    "def char_cnt(strings):\n",
    "    count_dict ={}\n",
    "    for i in strings:\n",
    "        if i in count_dict:\n",
    "            count_dict[i] += 1\n",
    "            return False\n",
    "        else:\n",
    "            count_dict[i] = 1\n",
    "    return True\n",
    "\n",
    "result = char_cnt(\"reshma\")\n",
    "print(result)"
   ]
  }
 ],
 "metadata": {
  "kernelspec": {
   "display_name": "Python 3",
   "language": "python",
   "name": "python3"
  },
  "language_info": {
   "codemirror_mode": {
    "name": "ipython",
    "version": 3
   },
   "file_extension": ".py",
   "mimetype": "text/x-python",
   "name": "python",
   "nbconvert_exporter": "python",
   "pygments_lexer": "ipython3",
   "version": "3.13.2"
  }
 },
 "nbformat": 4,
 "nbformat_minor": 5
}
